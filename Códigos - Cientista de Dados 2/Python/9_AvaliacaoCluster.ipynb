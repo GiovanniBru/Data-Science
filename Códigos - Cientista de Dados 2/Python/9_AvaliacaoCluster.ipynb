{
 "cells": [
  {
   "cell_type": "code",
   "execution_count": null,
   "metadata": {},
   "outputs": [],
   "source": [
    "from sklearn import datasets\n",
    "import numpy as np\n",
    "import matplotlib.pyplot as plt\n",
    "from sklearn.cluster import KMeans\n",
    "from sklearn.preprocessing import scale\n",
    "from pyclustertend import hopkins, vat,ivat, assess_tendency_by_metric, assess_tendency_by_mean_metric_score"
   ]
  },
  {
   "cell_type": "code",
   "execution_count": null,
   "metadata": {},
   "outputs": [],
   "source": [
    "# Cluster com Iris: \n",
    "iris = datasets.load_iris()\n",
    "cluster = KMeans(n_clusters = 3)\n",
    "clus = cluster.fit_predict(iris.data)\n",
    "print(clus)"
   ]
  },
  {
   "cell_type": "code",
   "execution_count": null,
   "metadata": {},
   "outputs": [],
   "source": [
    "# Imprimindo o Cluster:\n",
    "plt.title('Iris')\n",
    "plt.scatter(iris.data[:,0], iris.data[:,1], c = clus, cmap=\"rainbow\")\n",
    "plt.show()"
   ]
  },
  {
   "cell_type": "code",
   "execution_count": null,
   "metadata": {},
   "outputs": [],
   "source": [
    "# Criamos dois objetos para clusterização:\n",
    "clust1 = scale(iris.data) # Primeiro objeto = Iris; .data define que são só os valores numéricos\n",
    "# Novo cluster com a mesma dimensão de Iris:\n",
    "clust2 = np.random.rand(150,4)\n",
    "print(clust2)"
   ]
  },
  {
   "cell_type": "code",
   "execution_count": null,
   "metadata": {},
   "outputs": [],
   "source": [
    "# Gráfico de Elbow: \n",
    "# within-cluster sum-of-squares pode ser encontrado no atributo inertia do cluster\n",
    "inertia =[]\n",
    "for i in range(1, 8):\n",
    "    kmeans = KMeans(n_clusters = i).fit(clust1) # Gera um cluster KMeans para cada i \n",
    "    kmeans.fit(clust1)\n",
    "    inertia.append(kmeans.inertia_) # Armazenamos os clusters no inertia\n",
    "plt.plot(range(1, 8), inertia)\n",
    "plt.title('Elbow')\n",
    "plt.show()"
   ]
  },
  {
   "cell_type": "code",
   "execution_count": null,
   "metadata": {},
   "outputs": [],
   "source": [
    "# Capacidade do Cluster - Hopkins \n",
    "# Mais próximo de zero maior capacidade \n",
    "hopkins(clust1, 150)"
   ]
  },
  {
   "cell_type": "code",
   "execution_count": null,
   "metadata": {},
   "outputs": [],
   "source": [
    "hopkins(clust2,150)"
   ]
  },
  {
   "cell_type": "code",
   "execution_count": null,
   "metadata": {},
   "outputs": [],
   "source": [
    "# Visual assesement of tendency:\n",
    "vat(clust1)"
   ]
  },
  {
   "cell_type": "code",
   "execution_count": null,
   "metadata": {},
   "outputs": [],
   "source": [
    "vat(clust2)"
   ]
  },
  {
   "cell_type": "code",
   "execution_count": null,
   "metadata": {},
   "outputs": [],
   "source": [
    "# outra versão: \n",
    "ivat(clust1)  "
   ]
  },
  {
   "cell_type": "code",
   "execution_count": null,
   "metadata": {},
   "outputs": [],
   "source": [
    "ivat(clust2)  "
   ]
  },
  {
   "cell_type": "code",
   "execution_count": 13,
   "metadata": {},
   "outputs": [
    {
     "name": "stdout",
     "output_type": "stream",
     "text": [
      "(2, array([0.58175005, 0.45994824, 0.38504541, 0.3471606 ]))\n"
     ]
    }
   ],
   "source": [
    "# Avaliando a Qualidade dos dados: \n",
    "# Métodos 'Silhouette', 'Calinski_Harabasz', 'Davies_Bouldin'\n",
    "# dados, método, número máximo de clusters\n",
    "# retona o número ideial de cluster a valor de silhouette para cada um\n",
    "# silhouette busca minimizar\n",
    "m = assess_tendency_by_metric(clust1,'silhouette',5 )\n",
    "print(m)"
   ]
  },
  {
   "cell_type": "code",
   "execution_count": 14,
   "metadata": {},
   "outputs": [
    {
     "name": "stdout",
     "output_type": "stream",
     "text": [
      "(5, array([0.208572  , 0.21768261, 0.22735631, 0.25029   ]))\n"
     ]
    }
   ],
   "source": [
    "m = assess_tendency_by_metric(clust2,'silhouette',5 )\n",
    "print(m)"
   ]
  },
  {
   "cell_type": "code",
   "execution_count": 15,
   "metadata": {},
   "outputs": [
    {
     "name": "stdout",
     "output_type": "stream",
     "text": [
      "2.0\n"
     ]
    }
   ],
   "source": [
    "#retorna o número médio do melhor número de clusters dos três métodos\n",
    "m = assess_tendency_by_mean_metric_score(clust1,5 )\n",
    "print(m)"
   ]
  },
  {
   "cell_type": "code",
   "execution_count": 17,
   "metadata": {},
   "outputs": [
    {
     "name": "stdout",
     "output_type": "stream",
     "text": [
      "4.0\n"
     ]
    }
   ],
   "source": [
    "m = assess_tendency_by_mean_metric_score(clust2,5 )\n",
    "print(m)"
   ]
  },
  {
   "cell_type": "markdown",
   "metadata": {},
   "source": [
    "assess_tendency_by_metric passamos a métrica e número de clusters que queremos avaliar \n",
    "assess_tendency_by_mean_metric faz a avaliação para todas as 3 métricas e retorna a média "
   ]
  }
 ],
 "metadata": {
  "kernelspec": {
   "display_name": "Python 3",
   "language": "python",
   "name": "python3"
  },
  "language_info": {
   "codemirror_mode": {
    "name": "ipython",
    "version": 3
   },
   "file_extension": ".py",
   "mimetype": "text/x-python",
   "name": "python",
   "nbconvert_exporter": "python",
   "pygments_lexer": "ipython3",
   "version": "3.7.4"
  }
 },
 "nbformat": 4,
 "nbformat_minor": 4
}
