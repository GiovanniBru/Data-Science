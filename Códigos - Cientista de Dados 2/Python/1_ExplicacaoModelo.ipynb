{
 "cells": [
  {
   "cell_type": "markdown",
   "metadata": {},
   "source": [
    "Explicação de Modelos \n",
    "\n",
    "Usaremos uma forma de compreender de forma mais clara e visual o processo de construcao de um determinado modelo\n",
    "Usaremos uma ferramenta que mostrará o workflow do processo de construção de uma rede neural artificial convolucional \n",
    "A Técnica que iremos usar usa uma rede neural convolucional que busca o treinamento para classificação de imagens de gato e cachorro\n",
    "\n",
    "Iremos produzir o modelo, salvar em disco e usar o Netron para ver o workflow do processo"
   ]
  },
  {
   "cell_type": "code",
   "execution_count": 1,
   "metadata": {},
   "outputs": [
    {
     "name": "stderr",
     "output_type": "stream",
     "text": [
      "Using TensorFlow backend.\n",
      "C:\\Users\\Giovanni\\Anaconda3\\lib\\site-packages\\tensorflow\\python\\framework\\dtypes.py:526: FutureWarning: Passing (type, 1) or '1type' as a synonym of type is deprecated; in a future version of numpy, it will be understood as (type, (1,)) / '(1,)type'.\n",
      "  _np_qint8 = np.dtype([(\"qint8\", np.int8, 1)])\n",
      "C:\\Users\\Giovanni\\Anaconda3\\lib\\site-packages\\tensorflow\\python\\framework\\dtypes.py:527: FutureWarning: Passing (type, 1) or '1type' as a synonym of type is deprecated; in a future version of numpy, it will be understood as (type, (1,)) / '(1,)type'.\n",
      "  _np_quint8 = np.dtype([(\"quint8\", np.uint8, 1)])\n",
      "C:\\Users\\Giovanni\\Anaconda3\\lib\\site-packages\\tensorflow\\python\\framework\\dtypes.py:528: FutureWarning: Passing (type, 1) or '1type' as a synonym of type is deprecated; in a future version of numpy, it will be understood as (type, (1,)) / '(1,)type'.\n",
      "  _np_qint16 = np.dtype([(\"qint16\", np.int16, 1)])\n",
      "C:\\Users\\Giovanni\\Anaconda3\\lib\\site-packages\\tensorflow\\python\\framework\\dtypes.py:529: FutureWarning: Passing (type, 1) or '1type' as a synonym of type is deprecated; in a future version of numpy, it will be understood as (type, (1,)) / '(1,)type'.\n",
      "  _np_quint16 = np.dtype([(\"quint16\", np.uint16, 1)])\n",
      "C:\\Users\\Giovanni\\Anaconda3\\lib\\site-packages\\tensorflow\\python\\framework\\dtypes.py:530: FutureWarning: Passing (type, 1) or '1type' as a synonym of type is deprecated; in a future version of numpy, it will be understood as (type, (1,)) / '(1,)type'.\n",
      "  _np_qint32 = np.dtype([(\"qint32\", np.int32, 1)])\n",
      "C:\\Users\\Giovanni\\Anaconda3\\lib\\site-packages\\tensorflow\\python\\framework\\dtypes.py:535: FutureWarning: Passing (type, 1) or '1type' as a synonym of type is deprecated; in a future version of numpy, it will be understood as (type, (1,)) / '(1,)type'.\n",
      "  np_resource = np.dtype([(\"resource\", np.ubyte, 1)])\n"
     ]
    }
   ],
   "source": [
    "from keras.models import Sequential\n",
    "from keras.layers import Conv2D\n",
    "from keras.layers import MaxPooling2D\n",
    "from keras.layers import Flatten \n",
    "from keras.layers import Dense \n",
    "from keras.preprocessing.image import ImageDataGenerator"
   ]
  },
  {
   "cell_type": "code",
   "execution_count": 2,
   "metadata": {},
   "outputs": [
    {
     "name": "stdout",
     "output_type": "stream",
     "text": [
      "WARNING:tensorflow:From C:\\Users\\Giovanni\\Anaconda3\\lib\\site-packages\\tensorflow\\python\\ops\\resource_variable_ops.py:435: colocate_with (from tensorflow.python.framework.ops) is deprecated and will be removed in a future version.\n",
      "Instructions for updating:\n",
      "Colocations handled automatically by placer.\n"
     ]
    }
   ],
   "source": [
    "# Construindo a topologia de rede neural convolucional:\n",
    "classifier = Sequential() # Significa que irmos construir o modelo em camadas sequenciais\n",
    "# Camadas: \n",
    "classifier.add(Conv2D(32, (3, 3), input_shape = (64, 64, 3), activation = 'relu')) # Camada convolucional\n",
    "    # Na primeira camada precisamos definir o tamanho da entrada (input_shape) da imagem, usamos a função de ativação RELU\n",
    "classifier.add(MaxPooling2D(pool_size = (2, 2))) # Adiciona camada MaxPooling que faz a identificação das características \n",
    "classifier.add(Conv2D(32, (3, 3), activation = 'relu')) # Outra camada convolucional\n",
    "classifier.add(MaxPooling2D(pool_size = (2, 2))) # Outro MaxPooling\n",
    "classifier.add(Flatten()) # Camada Flatten transforma a matriz em vetor para fazer input na rede neural\n",
    "classifier.add(Dense(units = 128, activation = 'relu')) # Camada densa com 128 neuronios com função de ativação RELU\n",
    "classifier.add(Dense(units = 1, activation = 'sigmoid')) # Camada densa com 128 neuronios com funcao de ativação Sigmoid, Essa é a camada de saída \n",
    "    # Usamos sigmoid na camada de saída pois ela nos da uma classificação em percentual \n",
    "classifier.compile(optimizer = 'adam', loss = 'binary_crossentropy', metrics = ['accuracy']) # Compilação do classificador "
   ]
  },
  {
   "cell_type": "code",
   "execution_count": 3,
   "metadata": {},
   "outputs": [
    {
     "name": "stdout",
     "output_type": "stream",
     "text": [
      "Found 8000 images belonging to 2 classes.\n",
      "Found 2001 images belonging to 2 classes.\n",
      "WARNING:tensorflow:From C:\\Users\\Giovanni\\Anaconda3\\lib\\site-packages\\tensorflow\\python\\ops\\math_ops.py:3066: to_int32 (from tensorflow.python.ops.math_ops) is deprecated and will be removed in a future version.\n",
      "Instructions for updating:\n",
      "Use tf.cast instead.\n",
      "Epoch 1/5\n",
      "1000/1000 [==============================] - 656s 656ms/step - loss: 0.5890 - accuracy: 0.6794 - val_loss: 0.4002 - val_accuracy: 0.7528\n",
      "Epoch 2/5\n",
      "1000/1000 [==============================] - 716s 716ms/step - loss: 0.4888 - accuracy: 0.7621 - val_loss: 0.4134 - val_accuracy: 0.7535\n",
      "Epoch 3/5\n",
      "1000/1000 [==============================] - 591s 591ms/step - loss: 0.4380 - accuracy: 0.7947 - val_loss: 0.4845 - val_accuracy: 0.7949\n",
      "Epoch 4/5\n",
      "1000/1000 [==============================] - 581s 581ms/step - loss: 0.4041 - accuracy: 0.8131 - val_loss: 0.3772 - val_accuracy: 0.8080\n",
      "Epoch 5/5\n",
      "1000/1000 [==============================] - 579s 579ms/step - loss: 0.3736 - accuracy: 0.8296 - val_loss: 0.5266 - val_accuracy: 0.8067\n"
     ]
    },
    {
     "data": {
      "text/plain": [
       "<keras.callbacks.callbacks.History at 0x1ee8a3d4888>"
      ]
     },
     "execution_count": 3,
     "metadata": {},
     "output_type": "execute_result"
    }
   ],
   "source": [
    "# Tecnicas de Tratamento da Imagem:\n",
    "train_datagen = ImageDataGenerator(rescale = 1./255,\n",
    "                                   shear_range = 0.2,\n",
    "                                   zoom_range = 0.2,\n",
    "                                   horizontal_flip = True) \n",
    "test_datagen = ImageDataGenerator(rescale = 1./255)\n",
    "training_set = train_datagen.flow_from_directory('training_set',\n",
    "                                                 target_size = (64, 64),\n",
    "                                                 batch_size = 32,\n",
    "                                                 class_mode = 'binary')\n",
    "test_set = test_datagen.flow_from_directory('test_set',\n",
    "                                            target_size = (64, 64),\n",
    "                                            batch_size = 32,\n",
    "                                            class_mode = 'binary')\n",
    "\n",
    "# Treinamento:\n",
    "classifier.fit_generator(training_set,steps_per_epoch = 1000,epochs = 5,validation_data = test_set,validation_steps = 2000)\n",
    "    # Usamos 1000 etapas por epochs e apenas 5 epochs\n",
    "    # Usamos um numero muito baixo de epochs pois so queremos explicar o modelo, nao nos importamos com a precisão "
   ]
  },
  {
   "cell_type": "code",
   "execution_count": 4,
   "metadata": {},
   "outputs": [],
   "source": [
    "# Salvando o Modelo em disco:\n",
    "classifier.save(\"cnn.h5\")\n",
    "# cnn = rede neural convolucional\n",
    "# h5 é o formato desse tipo de arquivo "
   ]
  },
  {
   "cell_type": "markdown",
   "metadata": {},
   "source": []
  }
 ],
 "metadata": {
  "kernelspec": {
   "display_name": "Python 3",
   "language": "python",
   "name": "python3"
  },
  "language_info": {
   "codemirror_mode": {
    "name": "ipython",
    "version": 3
   },
   "file_extension": ".py",
   "mimetype": "text/x-python",
   "name": "python",
   "nbconvert_exporter": "python",
   "pygments_lexer": "ipython3",
   "version": "3.7.4"
  }
 },
 "nbformat": 4,
 "nbformat_minor": 4
}
