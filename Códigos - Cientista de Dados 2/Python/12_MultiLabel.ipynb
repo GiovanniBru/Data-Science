{
 "cells": [
  {
   "cell_type": "markdown",
   "metadata": {},
   "source": [
    "Classificação Multi Label em Python com a biblioteca scikit-Multilearn\n",
    "\n",
    "Iremos fazer dois algoritmos adaptados, vizinho mais próximo (kNN) e o Hierarquical ARAM (tipo de Neural Network)\n",
    "E também veremos os três tipos de Transformação do Problema"
   ]
  },
  {
   "cell_type": "code",
   "execution_count": 1,
   "metadata": {},
   "outputs": [],
   "source": [
    "#pip install scikit-multilearn\n",
    "# Knn e Hierarquical ARAM NN\n",
    "from skmultilearn.adapt import MLkNN, MLARAM\n",
    "from skmultilearn.problem_transform import BinaryRelevance, ClassifierChain, LabelPowerset #transformação de problemas\n",
    "from sklearn.svm import SVC\n",
    "from sklearn.model_selection import train_test_split\n",
    "from sklearn.metrics import hamming_loss\n",
    "import pandas as pd"
   ]
  },
  {
   "cell_type": "code",
   "execution_count": 2,
   "metadata": {},
   "outputs": [
    {
     "data": {
      "text/plain": [
       "(592, 77)"
      ]
     },
     "execution_count": 2,
     "metadata": {},
     "output_type": "execute_result"
    }
   ],
   "source": [
    "musica = pd.read_csv('Musica.csv', sep=\",\")\n",
    "musica.shape"
   ]
  },
  {
   "cell_type": "code",
   "execution_count": 3,
   "metadata": {},
   "outputs": [
    {
     "data": {
      "text/html": [
       "<div>\n",
       "<style scoped>\n",
       "    .dataframe tbody tr th:only-of-type {\n",
       "        vertical-align: middle;\n",
       "    }\n",
       "\n",
       "    .dataframe tbody tr th {\n",
       "        vertical-align: top;\n",
       "    }\n",
       "\n",
       "    .dataframe thead th {\n",
       "        text-align: right;\n",
       "    }\n",
       "</style>\n",
       "<table border=\"1\" class=\"dataframe\">\n",
       "  <thead>\n",
       "    <tr style=\"text-align: right;\">\n",
       "      <th></th>\n",
       "      <th>amazed-suprised</th>\n",
       "      <th>happy-pleased</th>\n",
       "      <th>relaxing-clam</th>\n",
       "      <th>quiet-still</th>\n",
       "      <th>sad-lonely</th>\n",
       "      <th>angry-aggresive</th>\n",
       "      <th>Mean_Acc1298_Mean_Mem40_Centroid</th>\n",
       "      <th>Mean_Acc1298_Mean_Mem40_Rolloff</th>\n",
       "      <th>Mean_Acc1298_Mean_Mem40_Flux</th>\n",
       "      <th>Mean_Acc1298_Mean_Mem40_MFCC_0</th>\n",
       "      <th>...</th>\n",
       "      <th>Std_Acc1298_Std_Mem40_MFCC_10</th>\n",
       "      <th>Std_Acc1298_Std_Mem40_MFCC_11</th>\n",
       "      <th>Std_Acc1298_Std_Mem40_MFCC_12</th>\n",
       "      <th>BH_LowPeakAmp</th>\n",
       "      <th>BH_LowPeakBPM</th>\n",
       "      <th>BH_HighPeakAmp</th>\n",
       "      <th>BH_HighPeakBPM</th>\n",
       "      <th>BHSUM1</th>\n",
       "      <th>BHSUM2</th>\n",
       "      <th>BHSUM3</th>\n",
       "    </tr>\n",
       "  </thead>\n",
       "  <tbody>\n",
       "    <tr>\n",
       "      <td>0</td>\n",
       "      <td>0</td>\n",
       "      <td>1</td>\n",
       "      <td>1</td>\n",
       "      <td>0</td>\n",
       "      <td>0</td>\n",
       "      <td>0</td>\n",
       "      <td>0.132498</td>\n",
       "      <td>0.077848</td>\n",
       "      <td>0.229227</td>\n",
       "      <td>0.602629</td>\n",
       "      <td>...</td>\n",
       "      <td>0.197026</td>\n",
       "      <td>0.196244</td>\n",
       "      <td>0.164323</td>\n",
       "      <td>0.030017</td>\n",
       "      <td>0.253968</td>\n",
       "      <td>0.008473</td>\n",
       "      <td>0.240602</td>\n",
       "      <td>0.136735</td>\n",
       "      <td>0.058442</td>\n",
       "      <td>0.107594</td>\n",
       "    </tr>\n",
       "    <tr>\n",
       "      <td>1</td>\n",
       "      <td>1</td>\n",
       "      <td>0</td>\n",
       "      <td>0</td>\n",
       "      <td>0</td>\n",
       "      <td>0</td>\n",
       "      <td>1</td>\n",
       "      <td>0.384281</td>\n",
       "      <td>0.355249</td>\n",
       "      <td>0.167190</td>\n",
       "      <td>0.853089</td>\n",
       "      <td>...</td>\n",
       "      <td>0.093526</td>\n",
       "      <td>0.085649</td>\n",
       "      <td>0.025101</td>\n",
       "      <td>0.182955</td>\n",
       "      <td>0.285714</td>\n",
       "      <td>0.156764</td>\n",
       "      <td>0.270677</td>\n",
       "      <td>0.191377</td>\n",
       "      <td>0.153728</td>\n",
       "      <td>0.197951</td>\n",
       "    </tr>\n",
       "    <tr>\n",
       "      <td>2</td>\n",
       "      <td>0</td>\n",
       "      <td>1</td>\n",
       "      <td>0</td>\n",
       "      <td>0</td>\n",
       "      <td>0</td>\n",
       "      <td>1</td>\n",
       "      <td>0.541782</td>\n",
       "      <td>0.356491</td>\n",
       "      <td>0.152246</td>\n",
       "      <td>0.791142</td>\n",
       "      <td>...</td>\n",
       "      <td>0.198082</td>\n",
       "      <td>0.108067</td>\n",
       "      <td>0.140574</td>\n",
       "      <td>0.099303</td>\n",
       "      <td>0.142857</td>\n",
       "      <td>0.000000</td>\n",
       "      <td>0.593985</td>\n",
       "      <td>0.105114</td>\n",
       "      <td>0.025555</td>\n",
       "      <td>0.122965</td>\n",
       "    </tr>\n",
       "    <tr>\n",
       "      <td>3</td>\n",
       "      <td>0</td>\n",
       "      <td>0</td>\n",
       "      <td>1</td>\n",
       "      <td>0</td>\n",
       "      <td>0</td>\n",
       "      <td>0</td>\n",
       "      <td>0.174288</td>\n",
       "      <td>0.243935</td>\n",
       "      <td>0.254326</td>\n",
       "      <td>0.438987</td>\n",
       "      <td>...</td>\n",
       "      <td>0.235793</td>\n",
       "      <td>0.220195</td>\n",
       "      <td>0.235834</td>\n",
       "      <td>0.024988</td>\n",
       "      <td>0.222222</td>\n",
       "      <td>0.117169</td>\n",
       "      <td>0.210526</td>\n",
       "      <td>0.057288</td>\n",
       "      <td>0.134575</td>\n",
       "      <td>0.091509</td>\n",
       "    </tr>\n",
       "    <tr>\n",
       "      <td>4</td>\n",
       "      <td>0</td>\n",
       "      <td>0</td>\n",
       "      <td>0</td>\n",
       "      <td>1</td>\n",
       "      <td>0</td>\n",
       "      <td>0</td>\n",
       "      <td>0.347436</td>\n",
       "      <td>0.155448</td>\n",
       "      <td>0.100047</td>\n",
       "      <td>0.126026</td>\n",
       "      <td>...</td>\n",
       "      <td>0.715683</td>\n",
       "      <td>0.573359</td>\n",
       "      <td>0.412368</td>\n",
       "      <td>0.016398</td>\n",
       "      <td>0.761905</td>\n",
       "      <td>0.081703</td>\n",
       "      <td>0.721805</td>\n",
       "      <td>0.108737</td>\n",
       "      <td>0.172882</td>\n",
       "      <td>0.189934</td>\n",
       "    </tr>\n",
       "  </tbody>\n",
       "</table>\n",
       "<p>5 rows × 77 columns</p>\n",
       "</div>"
      ],
      "text/plain": [
       "   amazed-suprised  happy-pleased  relaxing-clam  quiet-still  sad-lonely  \\\n",
       "0                0              1              1            0           0   \n",
       "1                1              0              0            0           0   \n",
       "2                0              1              0            0           0   \n",
       "3                0              0              1            0           0   \n",
       "4                0              0              0            1           0   \n",
       "\n",
       "   angry-aggresive  Mean_Acc1298_Mean_Mem40_Centroid  \\\n",
       "0                0                          0.132498   \n",
       "1                1                          0.384281   \n",
       "2                1                          0.541782   \n",
       "3                0                          0.174288   \n",
       "4                0                          0.347436   \n",
       "\n",
       "   Mean_Acc1298_Mean_Mem40_Rolloff  Mean_Acc1298_Mean_Mem40_Flux  \\\n",
       "0                         0.077848                      0.229227   \n",
       "1                         0.355249                      0.167190   \n",
       "2                         0.356491                      0.152246   \n",
       "3                         0.243935                      0.254326   \n",
       "4                         0.155448                      0.100047   \n",
       "\n",
       "   Mean_Acc1298_Mean_Mem40_MFCC_0  ...  Std_Acc1298_Std_Mem40_MFCC_10  \\\n",
       "0                        0.602629  ...                       0.197026   \n",
       "1                        0.853089  ...                       0.093526   \n",
       "2                        0.791142  ...                       0.198082   \n",
       "3                        0.438987  ...                       0.235793   \n",
       "4                        0.126026  ...                       0.715683   \n",
       "\n",
       "   Std_Acc1298_Std_Mem40_MFCC_11  Std_Acc1298_Std_Mem40_MFCC_12  \\\n",
       "0                       0.196244                       0.164323   \n",
       "1                       0.085649                       0.025101   \n",
       "2                       0.108067                       0.140574   \n",
       "3                       0.220195                       0.235834   \n",
       "4                       0.573359                       0.412368   \n",
       "\n",
       "   BH_LowPeakAmp  BH_LowPeakBPM  BH_HighPeakAmp  BH_HighPeakBPM    BHSUM1  \\\n",
       "0       0.030017       0.253968        0.008473        0.240602  0.136735   \n",
       "1       0.182955       0.285714        0.156764        0.270677  0.191377   \n",
       "2       0.099303       0.142857        0.000000        0.593985  0.105114   \n",
       "3       0.024988       0.222222        0.117169        0.210526  0.057288   \n",
       "4       0.016398       0.761905        0.081703        0.721805  0.108737   \n",
       "\n",
       "     BHSUM2    BHSUM3  \n",
       "0  0.058442  0.107594  \n",
       "1  0.153728  0.197951  \n",
       "2  0.025555  0.122965  \n",
       "3  0.134575  0.091509  \n",
       "4  0.172882  0.189934  \n",
       "\n",
       "[5 rows x 77 columns]"
      ]
     },
     "execution_count": 3,
     "metadata": {},
     "output_type": "execute_result"
    }
   ],
   "source": [
    "musica.head()"
   ]
  },
  {
   "cell_type": "markdown",
   "metadata": {},
   "source": [
    "Separando as Classes:"
   ]
  },
  {
   "cell_type": "code",
   "execution_count": 4,
   "metadata": {},
   "outputs": [
    {
     "data": {
      "text/plain": [
       "array([[0, 1, 1, 0, 0, 0],\n",
       "       [1, 0, 0, 0, 0, 1],\n",
       "       [0, 1, 0, 0, 0, 1],\n",
       "       ...,\n",
       "       [0, 0, 1, 1, 1, 0],\n",
       "       [0, 1, 1, 0, 0, 0],\n",
       "       [0, 1, 0, 0, 0, 0]], dtype=int64)"
      ]
     },
     "execution_count": 4,
     "metadata": {},
     "output_type": "execute_result"
    }
   ],
   "source": [
    "classe = musica.iloc[:,0:6].values\n",
    "previsores = musica.iloc[:,7:78].values\n",
    "classe"
   ]
  },
  {
   "cell_type": "markdown",
   "metadata": {},
   "source": [
    "Divisão de Treino e teste:"
   ]
  },
  {
   "cell_type": "code",
   "execution_count": 5,
   "metadata": {},
   "outputs": [],
   "source": [
    "X_treinamento, X_teste, y_treinamento, y_teste = train_test_split(previsores,classe,test_size = 0.3,\n",
    "                                                                  random_state = 0)"
   ]
  },
  {
   "cell_type": "markdown",
   "metadata": {},
   "source": [
    "Primeiro iremos usar o Algoritmo Adaptado do vizinho mais próximo (kNN):"
   ]
  },
  {
   "cell_type": "code",
   "execution_count": 6,
   "metadata": {},
   "outputs": [
    {
     "name": "stderr",
     "output_type": "stream",
     "text": [
      "C:\\Users\\Giovanni\\Anaconda3\\lib\\site-packages\\sklearn\\utils\\validation.py:71: FutureWarning: Pass n_neighbors=3 as keyword args. From version 0.25 passing these as positional arguments will result in an error\n",
      "  FutureWarning)\n"
     ]
    },
    {
     "data": {
      "text/plain": [
       "MLkNN(k=3)"
      ]
     },
     "execution_count": 6,
     "metadata": {},
     "output_type": "execute_result"
    }
   ],
   "source": [
    "vmp = MLkNN(k=3) \n",
    "vmp.fit(X_treinamento, y_treinamento) "
   ]
  },
  {
   "cell_type": "code",
   "execution_count": 7,
   "metadata": {},
   "outputs": [
    {
     "name": "stdout",
     "output_type": "stream",
     "text": [
      "0.23782771535580524\n"
     ]
    }
   ],
   "source": [
    "# Fazendo a previsão com dados de teste:\n",
    "previsto = vmp.predict(X_teste) \n",
    "# hamming para avaliar preformance  \n",
    "print(hamming_loss(y_teste, previsto)) "
   ]
  },
  {
   "cell_type": "markdown",
   "metadata": {},
   "source": [
    "O Hamming Loss do Algoritmo KNN adaptado foi 0.23 ou 23% dos labels foram errados\n",
    "\n",
    "Segundo Classificador Adaptado: Hierarquical ARAM Neural Network:"
   ]
  },
  {
   "cell_type": "code",
   "execution_count": 8,
   "metadata": {},
   "outputs": [
    {
     "data": {
      "text/plain": [
       "MLARAM(neurons=[<skmultilearn.adapt.mlaram.Neuron object at 0x0000011D9E826E48>,\n",
       "                <skmultilearn.adapt.mlaram.Neuron object at 0x0000011D9E826F88>,\n",
       "                <skmultilearn.adapt.mlaram.Neuron object at 0x0000011D9E80D048>,\n",
       "                <skmultilearn.adapt.mlaram.Neuron object at 0x0000011D9E826FC8>,\n",
       "                <skmultilearn.adapt.mlaram.Neuron object at 0x0000011D9E80D108>,\n",
       "                <skmultilearn.adapt.mlaram.Ne...\n",
       "                <skmultilearn.adapt.mlaram.Neuron object at 0x0000011D9E80D808>,\n",
       "                <skmultilearn.adapt.mlaram.Neuron object at 0x0000011D9E80D848>,\n",
       "                <skmultilearn.adapt.mlaram.Neuron object at 0x0000011D9E80D7C8>,\n",
       "                <skmultilearn.adapt.mlaram.Neuron object at 0x0000011D9E80D8C8>,\n",
       "                <skmultilearn.adapt.mlaram.Neuron object at 0x0000011D9E80D948>,\n",
       "                <skmultilearn.adapt.mlaram.Neuron object at 0x0000011D9E80D908>, ...])"
      ]
     },
     "execution_count": 8,
     "metadata": {},
     "output_type": "execute_result"
    }
   ],
   "source": [
    "ann = MLARAM()\n",
    "ann.fit(X_treinamento, y_treinamento) "
   ]
  },
  {
   "cell_type": "code",
   "execution_count": 9,
   "metadata": {},
   "outputs": [
    {
     "name": "stdout",
     "output_type": "stream",
     "text": [
      "0.24812734082397003\n"
     ]
    }
   ],
   "source": [
    "#previsão com dados de teste\n",
    "previsto = ann.predict(X_teste) \n",
    "#hamming para avaliar preformance  \n",
    "print(hamming_loss(y_teste, previsto)) "
   ]
  },
  {
   "cell_type": "markdown",
   "metadata": {},
   "source": [
    "O Hamming Loss do Algoritmo Hierarquical ARAM foi de 0.24, ou seja, 24% dos labels foram errados\n",
    "\n",
    "\n",
    "Transformação do problema: "
   ]
  },
  {
   "cell_type": "code",
   "execution_count": 10,
   "metadata": {},
   "outputs": [
    {
     "name": "stdout",
     "output_type": "stream",
     "text": [
      "0.199438202247191\n"
     ]
    }
   ],
   "source": [
    "#binary relevance\n",
    "binary = BinaryRelevance(classifier = SVC())\n",
    "    # Quando fazemos a transformação de Problema, precisamos de um classsificador \n",
    "    # Usamos a máquina de vetor de suporte (SVC) como classificador \n",
    "binary.fit(X_treinamento, y_treinamento)\n",
    "previsao = binary.predict(X_teste)\n",
    "print(hamming_loss(y_teste, previsao))"
   ]
  },
  {
   "cell_type": "markdown",
   "metadata": {},
   "source": [
    "Com o Binary Relevance o Hamming Loss foi de apenas 0.19"
   ]
  },
  {
   "cell_type": "code",
   "execution_count": 11,
   "metadata": {},
   "outputs": [
    {
     "name": "stdout",
     "output_type": "stream",
     "text": [
      "0.2340823970037453\n"
     ]
    }
   ],
   "source": [
    "#ClassifierChain\n",
    "chain = ClassifierChain(classifier = SVC())\n",
    "chain.fit(X_treinamento, y_treinamento)\n",
    "previsoes = chain.predict(X_teste)\n",
    "print(hamming_loss(y_teste,previsoes))"
   ]
  },
  {
   "cell_type": "code",
   "execution_count": 12,
   "metadata": {},
   "outputs": [
    {
     "name": "stdout",
     "output_type": "stream",
     "text": [
      "0.2209737827715356\n"
     ]
    }
   ],
   "source": [
    "#labelpowerset\n",
    "label = LabelPowerset(classifier = SVC())\n",
    "label.fit(X_treinamento, y_treinamento)\n",
    "previsoes = label.predict(X_teste)\n",
    "print(hamming_loss(y_teste,previsoes))"
   ]
  },
  {
   "cell_type": "markdown",
   "metadata": {},
   "source": [
    "A Transformação de Problema com Binary Relevance foi o que teve o melhor resultado para estes dados."
   ]
  }
 ],
 "metadata": {
  "kernelspec": {
   "display_name": "Python 3",
   "language": "python",
   "name": "python3"
  },
  "language_info": {
   "codemirror_mode": {
    "name": "ipython",
    "version": 3
   },
   "file_extension": ".py",
   "mimetype": "text/x-python",
   "name": "python",
   "nbconvert_exporter": "python",
   "pygments_lexer": "ipython3",
   "version": "3.7.4"
  }
 },
 "nbformat": 4,
 "nbformat_minor": 4
}
